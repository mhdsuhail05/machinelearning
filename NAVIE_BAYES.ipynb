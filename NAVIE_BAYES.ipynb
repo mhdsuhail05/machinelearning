{
  "nbformat": 4,
  "nbformat_minor": 0,
  "metadata": {
    "colab": {
      "provenance": []
    },
    "kernelspec": {
      "name": "python3",
      "display_name": "Python 3"
    },
    "language_info": {
      "name": "python"
    }
  },
  "cells": [
    {
      "cell_type": "code",
      "source": [
        "import numpy as np\n",
        "import pandas as pd\n",
        "from sklearn.model_selection import train_test_split\n",
        "from sklearn.naive_bayes import GaussianNB\n",
        "from sklearn.metrics import accuracy_score\n",
        "from sklearn.datasets import load_iris\n",
        "\n",
        "# Step 1: Load the Iris dataset (you can replace this with your dataset)\n",
        "data = load_iris()\n",
        "# Features (input data)\n",
        "X = data.data\n",
        "# Labels (target data)\n",
        "y = data.target"
      ],
      "metadata": {
        "id": "u5TYUtNFLGF5"
      },
      "execution_count": null,
      "outputs": []
    },
    {
      "cell_type": "code",
      "source": [
        "# Step 2: Split the data into training and test sets\n",
        "X_train, X_test, y_train, y_test = train_test_split(X, y, test_size=0.3, random_state=42)\n",
        "\n",
        "# Step 3: Initialize the Naive Bayes classifier\n",
        "model = GaussianNB()\n",
        "\n",
        "# Step 4: Train the model\n",
        "model.fit(X_train, y_train)\n",
        "\n",
        "# Step 5: Make predictions on the test set\n",
        "y_pred = model.predict(X_test)\n",
        "\n",
        "# Step 6: Calculate accuracy\n",
        "accuracy = accuracy_score(y_test, y_pred)\n",
        "print(f'Accuracy of the Naive Bayes model: {accuracy * 100:.2f}%')\n",
        "\n",
        "# Step 7: Make predictions with new data (optional)\n",
        "new_data = np.array([[5.1, 3.5, 1.4, 0.2]])  # Example input for a new flower\n",
        "prediction = model.predict(new_data)\n",
        "print(f'Prediction for the new data: {data.target_names[prediction]}')\n",
        "\n"
      ],
      "metadata": {
        "colab": {
          "base_uri": "https://localhost:8080/"
        },
        "id": "_qawumfdLb8g",
        "outputId": "1f819f4b-ae47-42e5-c305-115e6b7d8409"
      },
      "execution_count": null,
      "outputs": [
        {
          "output_type": "stream",
          "name": "stdout",
          "text": [
            "Accuracy of the Naive Bayes model: 97.78%\n",
            "Prediction for the new data: ['setosa']\n"
          ]
        }
      ]
    }
  ]
}