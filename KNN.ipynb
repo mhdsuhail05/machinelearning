{
  "nbformat": 4,
  "nbformat_minor": 0,
  "metadata": {
    "colab": {
      "provenance": []
    },
    "kernelspec": {
      "name": "python3",
      "display_name": "Python 3"
    },
    "language_info": {
      "name": "python"
    }
  },
  "cells": [
    {
      "cell_type": "code",
      "execution_count": null,
      "metadata": {
        "colab": {
          "base_uri": "https://localhost:8080/"
        },
        "id": "O81rvOWvwb-0",
        "outputId": "8b4ac1a2-9031-4e2f-ccda-a861a0a97cb2"
      },
      "outputs": [
        {
          "output_type": "stream",
          "name": "stdout",
          "text": [
            "x_Train shape: (112, 4)\n",
            "y_train shape: (112,)\n",
            "prediction: [0]\n",
            "predicted target name: ['setosa']\n",
            "test set prediction: [2 1 0 2 0 2 0 1 1 1 2 1 1 1 1 0 1 1 0 0 2 1 0 0 2 0 0 1 1 0 2 1 0 2 2 1 0\n",
            " 2]\n",
            "KNN (in%): 97.36842105263158\n"
          ]
        }
      ],
      "source": [
        "# load the iris dataset\n",
        "\n",
        "from sklearn.datasets import load_iris\n",
        "from sklearn.neighbors import KNeighborsClassifier\n",
        "from sklearn.model_selection import train_test_split\n",
        "from sklearn import metrics\n",
        "from sklearn.metrics import confusion_matrix\n",
        "iris_dataset = load_iris()\n",
        "\n",
        "# spliting x and y into training and testing sets\n",
        "\n",
        "x_train,x_test,y_train,y_test = train_test_split(iris_dataset['data'],iris_dataset['target'],random_state=0)\n",
        "print(\"x_Train shape:\",x_train.shape)\n",
        "print(\"y_train shape:\",y_train.shape)\n",
        "knn=KNeighborsClassifier(n_neighbors=1)\n",
        "\n",
        "# training the nodel on training set\n",
        "\n",
        "knn.fit(x_train,y_train)\n",
        "\n",
        "# making predictions on the testing set\n",
        "\n",
        "prediction=knn.predict([[4.5,1.2,1.3,1.9]])\n",
        "print (\"prediction:\",prediction)\n",
        "print(\"predicted target name:\",iris_dataset['target_names'][prediction])\n",
        "y_pred=knn.predict(x_test)\n",
        "print(\"test set prediction:\",y_pred)\n",
        "print(\"KNN (in%):\",metrics.accuracy_score(y_test,y_pred)*100)"
      ]
    }
  ]
}